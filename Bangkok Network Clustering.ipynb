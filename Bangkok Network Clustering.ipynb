{
 "cells": [
  {
   "cell_type": "markdown",
   "id": "71eb0f08-7a0e-4bab-a92d-8b845847dbc2",
   "metadata": {},
   "source": [
    "# Data Preparation"
   ]
  },
  {
   "cell_type": "markdown",
   "id": "3b01f26a-5a14-4b1d-b9b1-75c702e2d211",
   "metadata": {},
   "source": [
    "## Download Transportation Network"
   ]
  },
  {
   "cell_type": "code",
   "execution_count": 1,
   "id": "9bd7dbc8-f8d7-438c-8f32-ecdc9cc216e9",
   "metadata": {},
   "outputs": [],
   "source": [
    "import osmnx as ox\n",
    "\n",
    "G = ox.graph_from_place(\"Bangkok, Thailand\", network_type='drive')"
   ]
  },
  {
   "cell_type": "markdown",
   "id": "975165e2-b465-4a37-b8dd-1c8e068ca2e4",
   "metadata": {},
   "source": [
    "## Prepare Network for Infomap Clustering"
   ]
  },
  {
   "cell_type": "code",
   "execution_count": 2,
   "id": "09f28ccd-537b-48bd-a705-1ac50d70d75d",
   "metadata": {},
   "outputs": [],
   "source": [
    "import networkx as nx\n",
    "# Reassign node ids to make it's compatible with infomap\n",
    "original_to_new = {node: idx for idx, node in enumerate(G.nodes())}\n",
    "new_to_original = {idx: node for node, idx in original_to_new.items()}\n",
    "\n",
    "G_relabelled = nx.relabel_nodes(G, original_to_new)"
   ]
  },
  {
   "cell_type": "code",
   "execution_count": 3,
   "id": "6ccdca42-9e52-45d4-b357-5b6937296914",
   "metadata": {},
   "outputs": [
    {
     "name": "stdout",
     "output_type": "stream",
     "text": [
      "Original Graph Edges (first 5): [(51479828, 1337580877, {'osmid': 202235939, 'highway': 'tertiary', 'maxspeed': '50', 'name': 'ถนนบรรทัดทอง', 'oneway': False, 'reversed': False, 'length': np.float64(61.173863186207235)}), (51479828, 1337580894, {'osmid': 202235939, 'highway': 'tertiary', 'maxspeed': '50', 'name': 'ถนนบรรทัดทอง', 'oneway': False, 'reversed': True, 'length': np.float64(79.09113824839476)}), (51479828, 5933302530, {'osmid': 337523545, 'highway': 'residential', 'name': 'ซอยพญานาค', 'oneway': True, 'reversed': False, 'length': np.float64(105.3227138366798), 'geometry': <LINESTRING (100.526 13.753, 100.526 13.753, 100.526 13.753, 100.525 13.753)>}), (51479831, 1337580894, {'osmid': 202235939, 'highway': 'tertiary', 'maxspeed': '50', 'name': 'ถนนบรรทัดทอง', 'oneway': False, 'reversed': False, 'length': np.float64(2.3938952688706316)}), (51479831, 5933302557, {'osmid': 118986832, 'highway': 'residential', 'name': 'ซอยโรงแรมเจริญผล', 'oneway': False, 'reversed': False, 'length': np.float64(181.7243637283231), 'geometry': <LINESTRING (100.526 13.752, 100.525 13.752, 100.525 13.752, 100.524 13.752)>})]\n",
      "Relabelled Graph Edges (first 5): [(0, 9026, {'osmid': 202235939, 'highway': 'tertiary', 'maxspeed': '50', 'name': 'ถนนบรรทัดทอง', 'oneway': False, 'reversed': False, 'length': np.float64(61.173863186207235)}), (0, 9032, {'osmid': 202235939, 'highway': 'tertiary', 'maxspeed': '50', 'name': 'ถนนบรรทัดทอง', 'oneway': False, 'reversed': True, 'length': np.float64(79.09113824839476)}), (0, 105589, {'osmid': 337523545, 'highway': 'residential', 'name': 'ซอยพญานาค', 'oneway': True, 'reversed': False, 'length': np.float64(105.3227138366798), 'geometry': <LINESTRING (100.526 13.753, 100.526 13.753, 100.526 13.753, 100.525 13.753)>}), (1, 9032, {'osmid': 202235939, 'highway': 'tertiary', 'maxspeed': '50', 'name': 'ถนนบรรทัดทอง', 'oneway': False, 'reversed': False, 'length': np.float64(2.3938952688706316)}), (1, 105593, {'osmid': 118986832, 'highway': 'residential', 'name': 'ซอยโรงแรมเจริญผล', 'oneway': False, 'reversed': False, 'length': np.float64(181.7243637283231), 'geometry': <LINESTRING (100.526 13.752, 100.525 13.752, 100.525 13.752, 100.524 13.752)>})]\n"
     ]
    }
   ],
   "source": [
    "# Verify the edges are preserved\n",
    "print(\"Original Graph Edges (first 5):\", list(G.edges(data=True))[:5])\n",
    "print(\"Relabelled Graph Edges (first 5):\", list(G_relabelled.edges(data=True))[:5])"
   ]
  },
  {
   "cell_type": "markdown",
   "id": "aa955380-71aa-40b9-9789-2c11c4a3f557",
   "metadata": {},
   "source": [
    "## Simulate Traffic Density\n",
    "\n",
    "- Create an agent-based model where agents are assigned random origin-destination (OD) pairs.\n",
    "- Assign traffic density to edges based on the number of agents traversing them."
   ]
  },
  {
   "cell_type": "code",
   "execution_count": 11,
   "id": "ed2dc0d4-8b29-4f12-85a9-bd0e342c405f",
   "metadata": {},
   "outputs": [],
   "source": [
    "import random\n",
    "\n",
    "for edge in G_relabelled.edges:\n",
    "    G_relabelled.edges[edge]['traffic_density'] = random.randint(1, 1000000)"
   ]
  },
  {
   "cell_type": "markdown",
   "id": "7f4bdb05-924a-4925-bbe3-26a9cdedfe59",
   "metadata": {},
   "source": [
    "# Identify Homogeneous, Connected, and Compact Sub-Regions\n",
    "\n",
    "1. Graph Representation\n",
    "- Convert the network into a weighted graph where nodes are intersections and edges are roads.\n",
    "- Use traffic density as edge weights.\n",
    "  \n",
    "2. Infomap Clustering\n",
    "- Use the Infomap algorithm to find homogeneous and connected clusters."
   ]
  },
  {
   "cell_type": "code",
   "execution_count": 12,
   "id": "11fbe0fe-e342-4837-8f4b-d2c9ea6adc73",
   "metadata": {},
   "outputs": [
    {
     "name": "stdout",
     "output_type": "stream",
     "text": [
      ". Found 11 levels with codelength 3.486065313\n",
      "\n",
      "=> Trial 1/1 finished in 9.65361933s with codelength 3.48606531\n",
      "\n",
      "\n",
      "================================================\n",
      "Summary after 1 trial\n",
      "================================================\n",
      "Best end modular solution in 11 levels:\n",
      "Per level number of modules:         [          2,          23,         149,         918,        4846,       17431,       21191,        9535,        1522,         124,           0] (sum: 55741)\n",
      "Per level number of leaf nodes:      [          0,           0,           0,           0,           0,        4973,       53129,       77030,       36249,        5504,         493] (sum: 177378)\n",
      "Per level average child degree:      [          2,        11.5,     6.47826,     6.16107,     5.27887,     4.62319,     4.26367,     4.08499,      3.9613,     3.69777,     3.97581] (average: 4.19929)\n",
      "Per level codelength for modules:    [0.000055693, 0.001428211, 0.004676260, 0.015965020, 0.066907521, 0.235207270, 0.270990388, 0.112790383, 0.015697833, 0.001225053, 0.000000000] (sum: 0.724943632)\n",
      "Per level codelength for leaf nodes: [0.000000000, 0.000000000, 0.000000000, 0.000000000, 0.000000000, 0.079887673, 0.844666699, 1.202711955, 0.548044415, 0.078458250, 0.007352690] (sum: 2.761121681)\n",
      "Per level codelength total:          [0.000055693, 0.001428211, 0.004676260, 0.015965020, 0.066907521, 0.315094944, 1.115657086, 1.315502338, 0.563742248, 0.079683303, 0.007352690] (sum: 3.486065313)\n",
      "\n",
      "===================================================\n",
      "  Infomap ends at 2024-12-03 18:27:15\n",
      "  (Elapsed time: 9.91938737s)\n",
      "===================================================\n",
      "=======================================================\n",
      "  Infomap v2.8.0 starts at 2024-12-03 18:27:56\n",
      "  -> Input network: \n",
      "  -> No file output!\n",
      "=======================================================\n",
      "  -> Ordinary network input, using the Map Equation for first order network flows\n",
      "Calculating global network flow using flow model 'undirected'... \n",
      "  -> Using undirected links.\n",
      "  => Sum node flow: 1, sum link flow: 1\n",
      "Build internal network with 177378 nodes and 380028 links...\n",
      "  -> One-level codelength: 17.2029897\n",
      "\n",
      "================================================\n",
      "Trial 1/1 starting at 2024-12-03 18:27:56\n",
      "================================================\n",
      "Two-level compression: 73% 0.1% 0.184083545% 0.00569516347% 0.00828534636% \n",
      "Partitioned to codelength 0.89289657 + 3.71611936 = 4.609015933 in 17457 (17453 non-trivial) modules.\n",
      "Super-level compression: 12.6065046% 0.834115072% 0.0583171627% 0.00133257064% to codelength 3.99199953 in 3 top modules.\n",
      "\n",
      "Recursive sub-structure compression: 14.7044425% 19.1572253% 22.5462326% 25.1790127% 25.4135622% 18.2880044% 7.29707827% 1.13790185% 0.10703914% 0.00604425769% 0% "
     ]
    }
   ],
   "source": [
    "from infomap import Infomap\n",
    "import numpy as np\n",
    "\n",
    "infomap = Infomap()\n",
    "\n",
    "for u, v, data in G_relabelled.edges(data=True):\n",
    "    \n",
    "    weight = float(data.get('traffic_density', 1))\n",
    "    infomap.addLink(np.uint32(u), np.uint32(v), weight)\n",
    "    \n",
    "infomap.run()"
   ]
  },
  {
   "cell_type": "code",
   "execution_count": 13,
   "id": "c3a78999-1b01-44a5-aaf6-ee9066a4ebc3",
   "metadata": {},
   "outputs": [
    {
     "data": {
      "text/plain": [
       "{1, 2, 3}"
      ]
     },
     "execution_count": 13,
     "metadata": {},
     "output_type": "execute_result"
    }
   ],
   "source": [
    "# Extract clusters\n",
    "communities = {new_to_original[node_id]: module_id for node_id, module_id in infomap.modules}\n",
    "\n",
    "# View number of clusters\n",
    "set(communities.values())"
   ]
  },
  {
   "cell_type": "code",
   "execution_count": 14,
   "id": "f4e16578-ae89-4285-9d42-727f4a04cb9e",
   "metadata": {},
   "outputs": [],
   "source": [
    "# Add community information to nodes\n",
    "nx.set_node_attributes(G, communities, name=\"community\")\n",
    "\n",
    "# Add community information to edges\n",
    "for u, v, data in G.edges(data=True):\n",
    "    data[\"community\"] = communities.get(u)"
   ]
  },
  {
   "cell_type": "code",
   "execution_count": 15,
   "id": "651a306e-944e-4858-807b-d6805eb42aa4",
   "metadata": {},
   "outputs": [],
   "source": [
    "# Convert nodes to GeoJSON format\n",
    "node_features = []\n",
    "for node, data in G.nodes(data=True):\n",
    "    feature = {\n",
    "        \"type\": \"Feature\",\n",
    "        \"geometry\": {\n",
    "            \"type\": \"Point\",\n",
    "            \"coordinates\": [data[\"x\"], data[\"y\"]] \n",
    "        },\n",
    "        \"properties\": {\n",
    "            \"id\": node,\n",
    "            \"community\": data[\"community\"],  \n",
    "        },\n",
    "    }\n",
    "    node_features.append(feature)\n",
    "\n",
    "nodes_geojson = {\n",
    "    \"type\": \"FeatureCollection\",\n",
    "    \"features\": node_features,\n",
    "}\n",
    "\n",
    "# Convert edges to GeoJSON format\n",
    "edge_features = []\n",
    "for u, v, data in G.edges(data=True):\n",
    "    feature = {\n",
    "        \"type\": \"Feature\",\n",
    "        \"geometry\": {\n",
    "            \"type\": \"LineString\",\n",
    "            \"coordinates\": [\n",
    "                [G.nodes[u][\"x\"], G.nodes[u][\"y\"]],  \n",
    "                [G.nodes[v][\"x\"], G.nodes[v][\"y\"]],  \n",
    "            ],\n",
    "        },\n",
    "        \"properties\": {\n",
    "            \"source\": u,\n",
    "            \"target\": v,\n",
    "            \"community\": data[\"community\"],  \n",
    "        },\n",
    "    }\n",
    "    edge_features.append(feature)\n",
    "\n",
    "edges_geojson = {\n",
    "    \"type\": \"FeatureCollection\",\n",
    "    \"features\": edge_features,\n",
    "}"
   ]
  },
  {
   "cell_type": "code",
   "execution_count": 16,
   "id": "81dfb58d-be0b-40d8-90f5-55da295062f7",
   "metadata": {},
   "outputs": [
    {
     "name": "stdout",
     "output_type": "stream",
     "text": [
      "GeoJSON files saved!\n"
     ]
    }
   ],
   "source": [
    "import json\n",
    "\n",
    "with open(\"nodes_with_communities.geojson\", \"w\") as f:\n",
    "    json.dump(nodes_geojson, f)\n",
    "\n",
    "with open(\"edges_with_communities.geojson\", \"w\") as f:\n",
    "    json.dump(edges_geojson, f)\n",
    "\n",
    "print(\"GeoJSON files saved!\")"
   ]
  },
  {
   "cell_type": "code",
   "execution_count": null,
   "id": "76543ad7-f8d9-4947-aab6-82b41b7e7dc7",
   "metadata": {},
   "outputs": [],
   "source": []
  }
 ],
 "metadata": {
  "kernelspec": {
   "display_name": "Python 3 (ipykernel)",
   "language": "python",
   "name": "python3"
  },
  "language_info": {
   "codemirror_mode": {
    "name": "ipython",
    "version": 3
   },
   "file_extension": ".py",
   "mimetype": "text/x-python",
   "name": "python",
   "nbconvert_exporter": "python",
   "pygments_lexer": "ipython3",
   "version": "3.11.9"
  }
 },
 "nbformat": 4,
 "nbformat_minor": 5
}
